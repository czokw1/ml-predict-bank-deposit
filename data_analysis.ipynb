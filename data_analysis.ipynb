{
  "nbformat": 4,
  "nbformat_minor": 0,
  "metadata": {
    "colab": {
      "name": "data_analysis.ipynb",
      "provenance": [],
      "collapsed_sections": [],
      "toc_visible": true,
      "mount_file_id": "1yZ9UP4ilEdfzepiZiW56BHCGkBmsb0yf",
      "authorship_tag": "ABX9TyM3hWtrGmQD7vyRIjo7v6J7",
      "include_colab_link": true
    },
    "kernelspec": {
      "name": "python3",
      "display_name": "Python 3"
    }
  },
  "cells": [
    {
      "cell_type": "markdown",
      "metadata": {
        "id": "view-in-github",
        "colab_type": "text"
      },
      "source": [
        "<a href=\"https://colab.research.google.com/github/czokw1/ml-predict-bank-deposit/blob/master/data_analysis.ipynb\" target=\"_parent\"><img src=\"https://colab.research.google.com/assets/colab-badge.svg\" alt=\"Open In Colab\"/></a>"
      ]
    },
    {
      "cell_type": "markdown",
      "metadata": {
        "id": "cXTfHRcbz9U9",
        "colab_type": "text"
      },
      "source": [
        "#### Project Description"
      ]
    },
    {
      "cell_type": "code",
      "metadata": {
        "id": "XL7VYtZL0BFo",
        "colab_type": "code",
        "colab": {}
      },
      "source": [
        ""
      ],
      "execution_count": null,
      "outputs": []
    },
    {
      "cell_type": "markdown",
      "metadata": {
        "id": "fnud-nGty9ad",
        "colab_type": "text"
      },
      "source": [
        "#### Import libraries"
      ]
    },
    {
      "cell_type": "code",
      "metadata": {
        "id": "xgVntZx3w0tZ",
        "colab_type": "code",
        "colab": {
          "base_uri": "https://localhost:8080/",
          "height": 51
        },
        "outputId": "435ae9d1-4929-4832-c7a7-19689d9f6a4c"
      },
      "source": [
        "import pandas as pd\n",
        "import numpy as np\n",
        "\n",
        "import matplotlib.pyplot as plt\n",
        "import seaborn as sns"
      ],
      "execution_count": 33,
      "outputs": [
        {
          "output_type": "stream",
          "text": [
            "/usr/local/lib/python3.6/dist-packages/statsmodels/tools/_testing.py:19: FutureWarning: pandas.util.testing is deprecated. Use the functions in the public API at pandas.testing instead.\n",
            "  import pandas.util.testing as tm\n"
          ],
          "name": "stderr"
        }
      ]
    },
    {
      "cell_type": "code",
      "metadata": {
        "id": "wFYsFfTA0Sbz",
        "colab_type": "code",
        "colab": {}
      },
      "source": [
        ""
      ],
      "execution_count": null,
      "outputs": []
    },
    {
      "cell_type": "markdown",
      "metadata": {
        "id": "u-m-xhr00Xpe",
        "colab_type": "text"
      },
      "source": [
        "####Load Data"
      ]
    },
    {
      "cell_type": "code",
      "metadata": {
        "id": "DUf-1Rrcy5FU",
        "colab_type": "code",
        "colab": {}
      },
      "source": [
        "dataset = pd.read_csv('/content/drive/My Drive/Colab Notebooks/DS/Project/data/bank-full.csv',sep=';')"
      ],
      "execution_count": null,
      "outputs": []
    },
    {
      "cell_type": "code",
      "metadata": {
        "id": "Ibz-8Ej_0QSr",
        "colab_type": "code",
        "colab": {
          "base_uri": "https://localhost:8080/",
          "height": 359
        },
        "outputId": "81d0bd80-6ea0-438c-bac5-9b9dd851b52f"
      },
      "source": [
        "dataset.sample(10)\n"
      ],
      "execution_count": null,
      "outputs": [
        {
          "output_type": "execute_result",
          "data": {
            "text/html": [
              "<div>\n",
              "<style scoped>\n",
              "    .dataframe tbody tr th:only-of-type {\n",
              "        vertical-align: middle;\n",
              "    }\n",
              "\n",
              "    .dataframe tbody tr th {\n",
              "        vertical-align: top;\n",
              "    }\n",
              "\n",
              "    .dataframe thead th {\n",
              "        text-align: right;\n",
              "    }\n",
              "</style>\n",
              "<table border=\"1\" class=\"dataframe\">\n",
              "  <thead>\n",
              "    <tr style=\"text-align: right;\">\n",
              "      <th></th>\n",
              "      <th>age</th>\n",
              "      <th>job</th>\n",
              "      <th>marital</th>\n",
              "      <th>education</th>\n",
              "      <th>default</th>\n",
              "      <th>balance</th>\n",
              "      <th>housing</th>\n",
              "      <th>loan</th>\n",
              "      <th>contact</th>\n",
              "      <th>day</th>\n",
              "      <th>month</th>\n",
              "      <th>duration</th>\n",
              "      <th>campaign</th>\n",
              "      <th>pdays</th>\n",
              "      <th>previous</th>\n",
              "      <th>poutcome</th>\n",
              "      <th>y</th>\n",
              "    </tr>\n",
              "  </thead>\n",
              "  <tbody>\n",
              "    <tr>\n",
              "      <th>4304</th>\n",
              "      <td>28</td>\n",
              "      <td>admin.</td>\n",
              "      <td>single</td>\n",
              "      <td>secondary</td>\n",
              "      <td>no</td>\n",
              "      <td>350</td>\n",
              "      <td>yes</td>\n",
              "      <td>yes</td>\n",
              "      <td>unknown</td>\n",
              "      <td>19</td>\n",
              "      <td>may</td>\n",
              "      <td>5</td>\n",
              "      <td>2</td>\n",
              "      <td>-1</td>\n",
              "      <td>0</td>\n",
              "      <td>unknown</td>\n",
              "      <td>no</td>\n",
              "    </tr>\n",
              "    <tr>\n",
              "      <th>8231</th>\n",
              "      <td>40</td>\n",
              "      <td>services</td>\n",
              "      <td>divorced</td>\n",
              "      <td>primary</td>\n",
              "      <td>no</td>\n",
              "      <td>1937</td>\n",
              "      <td>yes</td>\n",
              "      <td>no</td>\n",
              "      <td>unknown</td>\n",
              "      <td>2</td>\n",
              "      <td>jun</td>\n",
              "      <td>86</td>\n",
              "      <td>1</td>\n",
              "      <td>-1</td>\n",
              "      <td>0</td>\n",
              "      <td>unknown</td>\n",
              "      <td>no</td>\n",
              "    </tr>\n",
              "    <tr>\n",
              "      <th>22045</th>\n",
              "      <td>40</td>\n",
              "      <td>technician</td>\n",
              "      <td>single</td>\n",
              "      <td>secondary</td>\n",
              "      <td>no</td>\n",
              "      <td>34</td>\n",
              "      <td>no</td>\n",
              "      <td>no</td>\n",
              "      <td>cellular</td>\n",
              "      <td>20</td>\n",
              "      <td>aug</td>\n",
              "      <td>66</td>\n",
              "      <td>3</td>\n",
              "      <td>-1</td>\n",
              "      <td>0</td>\n",
              "      <td>unknown</td>\n",
              "      <td>no</td>\n",
              "    </tr>\n",
              "    <tr>\n",
              "      <th>45205</th>\n",
              "      <td>25</td>\n",
              "      <td>technician</td>\n",
              "      <td>single</td>\n",
              "      <td>secondary</td>\n",
              "      <td>no</td>\n",
              "      <td>505</td>\n",
              "      <td>no</td>\n",
              "      <td>yes</td>\n",
              "      <td>cellular</td>\n",
              "      <td>17</td>\n",
              "      <td>nov</td>\n",
              "      <td>386</td>\n",
              "      <td>2</td>\n",
              "      <td>-1</td>\n",
              "      <td>0</td>\n",
              "      <td>unknown</td>\n",
              "      <td>yes</td>\n",
              "    </tr>\n",
              "    <tr>\n",
              "      <th>2371</th>\n",
              "      <td>37</td>\n",
              "      <td>admin.</td>\n",
              "      <td>married</td>\n",
              "      <td>secondary</td>\n",
              "      <td>no</td>\n",
              "      <td>36</td>\n",
              "      <td>yes</td>\n",
              "      <td>no</td>\n",
              "      <td>unknown</td>\n",
              "      <td>13</td>\n",
              "      <td>may</td>\n",
              "      <td>428</td>\n",
              "      <td>1</td>\n",
              "      <td>-1</td>\n",
              "      <td>0</td>\n",
              "      <td>unknown</td>\n",
              "      <td>no</td>\n",
              "    </tr>\n",
              "    <tr>\n",
              "      <th>42482</th>\n",
              "      <td>30</td>\n",
              "      <td>services</td>\n",
              "      <td>married</td>\n",
              "      <td>secondary</td>\n",
              "      <td>no</td>\n",
              "      <td>517</td>\n",
              "      <td>no</td>\n",
              "      <td>no</td>\n",
              "      <td>cellular</td>\n",
              "      <td>11</td>\n",
              "      <td>dec</td>\n",
              "      <td>141</td>\n",
              "      <td>2</td>\n",
              "      <td>-1</td>\n",
              "      <td>0</td>\n",
              "      <td>unknown</td>\n",
              "      <td>yes</td>\n",
              "    </tr>\n",
              "    <tr>\n",
              "      <th>23194</th>\n",
              "      <td>54</td>\n",
              "      <td>management</td>\n",
              "      <td>married</td>\n",
              "      <td>tertiary</td>\n",
              "      <td>no</td>\n",
              "      <td>656</td>\n",
              "      <td>yes</td>\n",
              "      <td>yes</td>\n",
              "      <td>cellular</td>\n",
              "      <td>27</td>\n",
              "      <td>aug</td>\n",
              "      <td>105</td>\n",
              "      <td>6</td>\n",
              "      <td>-1</td>\n",
              "      <td>0</td>\n",
              "      <td>unknown</td>\n",
              "      <td>no</td>\n",
              "    </tr>\n",
              "    <tr>\n",
              "      <th>11561</th>\n",
              "      <td>36</td>\n",
              "      <td>admin.</td>\n",
              "      <td>married</td>\n",
              "      <td>secondary</td>\n",
              "      <td>no</td>\n",
              "      <td>4011</td>\n",
              "      <td>no</td>\n",
              "      <td>no</td>\n",
              "      <td>unknown</td>\n",
              "      <td>19</td>\n",
              "      <td>jun</td>\n",
              "      <td>10</td>\n",
              "      <td>16</td>\n",
              "      <td>-1</td>\n",
              "      <td>0</td>\n",
              "      <td>unknown</td>\n",
              "      <td>no</td>\n",
              "    </tr>\n",
              "    <tr>\n",
              "      <th>8664</th>\n",
              "      <td>39</td>\n",
              "      <td>admin.</td>\n",
              "      <td>married</td>\n",
              "      <td>secondary</td>\n",
              "      <td>no</td>\n",
              "      <td>46</td>\n",
              "      <td>no</td>\n",
              "      <td>no</td>\n",
              "      <td>unknown</td>\n",
              "      <td>3</td>\n",
              "      <td>jun</td>\n",
              "      <td>187</td>\n",
              "      <td>2</td>\n",
              "      <td>-1</td>\n",
              "      <td>0</td>\n",
              "      <td>unknown</td>\n",
              "      <td>no</td>\n",
              "    </tr>\n",
              "    <tr>\n",
              "      <th>32392</th>\n",
              "      <td>32</td>\n",
              "      <td>management</td>\n",
              "      <td>married</td>\n",
              "      <td>primary</td>\n",
              "      <td>no</td>\n",
              "      <td>5</td>\n",
              "      <td>yes</td>\n",
              "      <td>no</td>\n",
              "      <td>cellular</td>\n",
              "      <td>16</td>\n",
              "      <td>apr</td>\n",
              "      <td>194</td>\n",
              "      <td>2</td>\n",
              "      <td>-1</td>\n",
              "      <td>0</td>\n",
              "      <td>unknown</td>\n",
              "      <td>no</td>\n",
              "    </tr>\n",
              "  </tbody>\n",
              "</table>\n",
              "</div>"
            ],
            "text/plain": [
              "       age         job   marital  education  ... pdays  previous poutcome    y\n",
              "4304    28      admin.    single  secondary  ...    -1         0  unknown   no\n",
              "8231    40    services  divorced    primary  ...    -1         0  unknown   no\n",
              "22045   40  technician    single  secondary  ...    -1         0  unknown   no\n",
              "45205   25  technician    single  secondary  ...    -1         0  unknown  yes\n",
              "2371    37      admin.   married  secondary  ...    -1         0  unknown   no\n",
              "42482   30    services   married  secondary  ...    -1         0  unknown  yes\n",
              "23194   54  management   married   tertiary  ...    -1         0  unknown   no\n",
              "11561   36      admin.   married  secondary  ...    -1         0  unknown   no\n",
              "8664    39      admin.   married  secondary  ...    -1         0  unknown   no\n",
              "32392   32  management   married    primary  ...    -1         0  unknown   no\n",
              "\n",
              "[10 rows x 17 columns]"
            ]
          },
          "metadata": {
            "tags": []
          },
          "execution_count": 13
        }
      ]
    },
    {
      "cell_type": "code",
      "metadata": {
        "id": "VYseA74v5Azj",
        "colab_type": "code",
        "colab": {}
      },
      "source": [
        ""
      ],
      "execution_count": null,
      "outputs": []
    },
    {
      "cell_type": "markdown",
      "metadata": {
        "id": "Ak55w3965BiV",
        "colab_type": "text"
      },
      "source": [
        "#### Exploratory data analysis"
      ]
    },
    {
      "cell_type": "code",
      "metadata": {
        "id": "W1Pgrh020sXQ",
        "colab_type": "code",
        "colab": {
          "base_uri": "https://localhost:8080/",
          "height": 425
        },
        "outputId": "80c91f31-c08a-474c-ee10-18581f2dc1c8"
      },
      "source": [
        "### checking data type of variables\n",
        "dataset.info()"
      ],
      "execution_count": 17,
      "outputs": [
        {
          "output_type": "stream",
          "text": [
            "<class 'pandas.core.frame.DataFrame'>\n",
            "RangeIndex: 45211 entries, 0 to 45210\n",
            "Data columns (total 17 columns):\n",
            " #   Column     Non-Null Count  Dtype \n",
            "---  ------     --------------  ----- \n",
            " 0   age        45211 non-null  int64 \n",
            " 1   job        45211 non-null  object\n",
            " 2   marital    45211 non-null  object\n",
            " 3   education  45211 non-null  object\n",
            " 4   default    45211 non-null  object\n",
            " 5   balance    45211 non-null  int64 \n",
            " 6   housing    45211 non-null  object\n",
            " 7   loan       45211 non-null  object\n",
            " 8   contact    45211 non-null  object\n",
            " 9   day        45211 non-null  int64 \n",
            " 10  month      45211 non-null  object\n",
            " 11  duration   45211 non-null  int64 \n",
            " 12  campaign   45211 non-null  int64 \n",
            " 13  pdays      45211 non-null  int64 \n",
            " 14  previous   45211 non-null  int64 \n",
            " 15  poutcome   45211 non-null  object\n",
            " 16  y          45211 non-null  object\n",
            "dtypes: int64(7), object(10)\n",
            "memory usage: 5.9+ MB\n"
          ],
          "name": "stdout"
        }
      ]
    },
    {
      "cell_type": "code",
      "metadata": {
        "id": "TO-_CTBz4i79",
        "colab_type": "code",
        "colab": {
          "base_uri": "https://localhost:8080/",
          "height": 323
        },
        "outputId": "a8262290-3ec6-461c-f27c-fa03c153e100"
      },
      "source": [
        "### checking if there are any missing values\n",
        "dataset.isnull().sum()"
      ],
      "execution_count": 18,
      "outputs": [
        {
          "output_type": "execute_result",
          "data": {
            "text/plain": [
              "age          0\n",
              "job          0\n",
              "marital      0\n",
              "education    0\n",
              "default      0\n",
              "balance      0\n",
              "housing      0\n",
              "loan         0\n",
              "contact      0\n",
              "day          0\n",
              "month        0\n",
              "duration     0\n",
              "campaign     0\n",
              "pdays        0\n",
              "previous     0\n",
              "poutcome     0\n",
              "y            0\n",
              "dtype: int64"
            ]
          },
          "metadata": {
            "tags": []
          },
          "execution_count": 18
        }
      ]
    },
    {
      "cell_type": "code",
      "metadata": {
        "id": "UJjZmx8N5JF5",
        "colab_type": "code",
        "colab": {
          "base_uri": "https://localhost:8080/",
          "height": 297
        },
        "outputId": "b3794bf6-771f-44be-cef1-f4aa91695b9c"
      },
      "source": [
        "### checking descriptive statistics\n",
        "dataset.describe()"
      ],
      "execution_count": 32,
      "outputs": [
        {
          "output_type": "execute_result",
          "data": {
            "text/html": [
              "<div>\n",
              "<style scoped>\n",
              "    .dataframe tbody tr th:only-of-type {\n",
              "        vertical-align: middle;\n",
              "    }\n",
              "\n",
              "    .dataframe tbody tr th {\n",
              "        vertical-align: top;\n",
              "    }\n",
              "\n",
              "    .dataframe thead th {\n",
              "        text-align: right;\n",
              "    }\n",
              "</style>\n",
              "<table border=\"1\" class=\"dataframe\">\n",
              "  <thead>\n",
              "    <tr style=\"text-align: right;\">\n",
              "      <th></th>\n",
              "      <th>age</th>\n",
              "      <th>balance</th>\n",
              "      <th>day</th>\n",
              "      <th>duration</th>\n",
              "      <th>campaign</th>\n",
              "      <th>pdays</th>\n",
              "      <th>previous</th>\n",
              "    </tr>\n",
              "  </thead>\n",
              "  <tbody>\n",
              "    <tr>\n",
              "      <th>count</th>\n",
              "      <td>45211.000000</td>\n",
              "      <td>45211.000000</td>\n",
              "      <td>45211.000000</td>\n",
              "      <td>45211.000000</td>\n",
              "      <td>45211.000000</td>\n",
              "      <td>45211.000000</td>\n",
              "      <td>45211.000000</td>\n",
              "    </tr>\n",
              "    <tr>\n",
              "      <th>mean</th>\n",
              "      <td>40.936210</td>\n",
              "      <td>1362.272058</td>\n",
              "      <td>15.806419</td>\n",
              "      <td>258.163080</td>\n",
              "      <td>2.763841</td>\n",
              "      <td>40.197828</td>\n",
              "      <td>0.580323</td>\n",
              "    </tr>\n",
              "    <tr>\n",
              "      <th>std</th>\n",
              "      <td>10.618762</td>\n",
              "      <td>3044.765829</td>\n",
              "      <td>8.322476</td>\n",
              "      <td>257.527812</td>\n",
              "      <td>3.098021</td>\n",
              "      <td>100.128746</td>\n",
              "      <td>2.303441</td>\n",
              "    </tr>\n",
              "    <tr>\n",
              "      <th>min</th>\n",
              "      <td>18.000000</td>\n",
              "      <td>-8019.000000</td>\n",
              "      <td>1.000000</td>\n",
              "      <td>0.000000</td>\n",
              "      <td>1.000000</td>\n",
              "      <td>-1.000000</td>\n",
              "      <td>0.000000</td>\n",
              "    </tr>\n",
              "    <tr>\n",
              "      <th>25%</th>\n",
              "      <td>33.000000</td>\n",
              "      <td>72.000000</td>\n",
              "      <td>8.000000</td>\n",
              "      <td>103.000000</td>\n",
              "      <td>1.000000</td>\n",
              "      <td>-1.000000</td>\n",
              "      <td>0.000000</td>\n",
              "    </tr>\n",
              "    <tr>\n",
              "      <th>50%</th>\n",
              "      <td>39.000000</td>\n",
              "      <td>448.000000</td>\n",
              "      <td>16.000000</td>\n",
              "      <td>180.000000</td>\n",
              "      <td>2.000000</td>\n",
              "      <td>-1.000000</td>\n",
              "      <td>0.000000</td>\n",
              "    </tr>\n",
              "    <tr>\n",
              "      <th>75%</th>\n",
              "      <td>48.000000</td>\n",
              "      <td>1428.000000</td>\n",
              "      <td>21.000000</td>\n",
              "      <td>319.000000</td>\n",
              "      <td>3.000000</td>\n",
              "      <td>-1.000000</td>\n",
              "      <td>0.000000</td>\n",
              "    </tr>\n",
              "    <tr>\n",
              "      <th>max</th>\n",
              "      <td>95.000000</td>\n",
              "      <td>102127.000000</td>\n",
              "      <td>31.000000</td>\n",
              "      <td>4918.000000</td>\n",
              "      <td>63.000000</td>\n",
              "      <td>871.000000</td>\n",
              "      <td>275.000000</td>\n",
              "    </tr>\n",
              "  </tbody>\n",
              "</table>\n",
              "</div>"
            ],
            "text/plain": [
              "                age        balance  ...         pdays      previous\n",
              "count  45211.000000   45211.000000  ...  45211.000000  45211.000000\n",
              "mean      40.936210    1362.272058  ...     40.197828      0.580323\n",
              "std       10.618762    3044.765829  ...    100.128746      2.303441\n",
              "min       18.000000   -8019.000000  ...     -1.000000      0.000000\n",
              "25%       33.000000      72.000000  ...     -1.000000      0.000000\n",
              "50%       39.000000     448.000000  ...     -1.000000      0.000000\n",
              "75%       48.000000    1428.000000  ...     -1.000000      0.000000\n",
              "max       95.000000  102127.000000  ...    871.000000    275.000000\n",
              "\n",
              "[8 rows x 7 columns]"
            ]
          },
          "metadata": {
            "tags": []
          },
          "execution_count": 32
        }
      ]
    },
    {
      "cell_type": "code",
      "metadata": {
        "id": "KFYlN2J659JT",
        "colab_type": "code",
        "colab": {
          "base_uri": "https://localhost:8080/",
          "height": 187
        },
        "outputId": "2609ade4-b2d4-4def-b726-e52195b19693"
      },
      "source": [
        "### Corealation matrix for numerical variables\n",
        "corr = dataset.corr()\n",
        "corr.style.background_gradient(cmap='coolwarm').set_precision(2)"
      ],
      "execution_count": 39,
      "outputs": [
        {
          "output_type": "execute_result",
          "data": {
            "text/html": [
              "<style  type=\"text/css\" >\n",
              "    #T_907158d4_cb91_11ea_bd93_0242ac1c0002row0_col0 {\n",
              "            background-color:  #b40426;\n",
              "            color:  #f1f1f1;\n",
              "        }    #T_907158d4_cb91_11ea_bd93_0242ac1c0002row0_col1 {\n",
              "            background-color:  #5d7ce6;\n",
              "            color:  #000000;\n",
              "        }    #T_907158d4_cb91_11ea_bd93_0242ac1c0002row0_col2 {\n",
              "            background-color:  #516ddb;\n",
              "            color:  #000000;\n",
              "        }    #T_907158d4_cb91_11ea_bd93_0242ac1c0002row0_col3 {\n",
              "            background-color:  #506bda;\n",
              "            color:  #000000;\n",
              "        }    #T_907158d4_cb91_11ea_bd93_0242ac1c0002row0_col4 {\n",
              "            background-color:  #5470de;\n",
              "            color:  #000000;\n",
              "        }    #T_907158d4_cb91_11ea_bd93_0242ac1c0002row0_col5 {\n",
              "            background-color:  #4e68d8;\n",
              "            color:  #000000;\n",
              "        }    #T_907158d4_cb91_11ea_bd93_0242ac1c0002row0_col6 {\n",
              "            background-color:  #4961d2;\n",
              "            color:  #f1f1f1;\n",
              "        }    #T_907158d4_cb91_11ea_bd93_0242ac1c0002row1_col0 {\n",
              "            background-color:  #5f7fe8;\n",
              "            color:  #000000;\n",
              "        }    #T_907158d4_cb91_11ea_bd93_0242ac1c0002row1_col1 {\n",
              "            background-color:  #b40426;\n",
              "            color:  #f1f1f1;\n",
              "        }    #T_907158d4_cb91_11ea_bd93_0242ac1c0002row1_col2 {\n",
              "            background-color:  #5572df;\n",
              "            color:  #000000;\n",
              "        }    #T_907158d4_cb91_11ea_bd93_0242ac1c0002row1_col3 {\n",
              "            background-color:  #5977e3;\n",
              "            color:  #000000;\n",
              "        }    #T_907158d4_cb91_11ea_bd93_0242ac1c0002row1_col4 {\n",
              "            background-color:  #4f69d9;\n",
              "            color:  #000000;\n",
              "        }    #T_907158d4_cb91_11ea_bd93_0242ac1c0002row1_col5 {\n",
              "            background-color:  #5572df;\n",
              "            color:  #000000;\n",
              "        }    #T_907158d4_cb91_11ea_bd93_0242ac1c0002row1_col6 {\n",
              "            background-color:  #4e68d8;\n",
              "            color:  #000000;\n",
              "        }    #T_907158d4_cb91_11ea_bd93_0242ac1c0002row2_col0 {\n",
              "            background-color:  #3e51c5;\n",
              "            color:  #f1f1f1;\n",
              "        }    #T_907158d4_cb91_11ea_bd93_0242ac1c0002row2_col1 {\n",
              "            background-color:  #3f53c6;\n",
              "            color:  #f1f1f1;\n",
              "        }    #T_907158d4_cb91_11ea_bd93_0242ac1c0002row2_col2 {\n",
              "            background-color:  #b40426;\n",
              "            color:  #f1f1f1;\n",
              "        }    #T_907158d4_cb91_11ea_bd93_0242ac1c0002row2_col3 {\n",
              "            background-color:  #4961d2;\n",
              "            color:  #f1f1f1;\n",
              "        }    #T_907158d4_cb91_11ea_bd93_0242ac1c0002row2_col4 {\n",
              "            background-color:  #86a9fc;\n",
              "            color:  #000000;\n",
              "        }    #T_907158d4_cb91_11ea_bd93_0242ac1c0002row2_col5 {\n",
              "            background-color:  #3b4cc0;\n",
              "            color:  #f1f1f1;\n",
              "        }    #T_907158d4_cb91_11ea_bd93_0242ac1c0002row2_col6 {\n",
              "            background-color:  #3b4cc0;\n",
              "            color:  #f1f1f1;\n",
              "        }    #T_907158d4_cb91_11ea_bd93_0242ac1c0002row3_col0 {\n",
              "            background-color:  #3f53c6;\n",
              "            color:  #f1f1f1;\n",
              "        }    #T_907158d4_cb91_11ea_bd93_0242ac1c0002row3_col1 {\n",
              "            background-color:  #455cce;\n",
              "            color:  #f1f1f1;\n",
              "        }    #T_907158d4_cb91_11ea_bd93_0242ac1c0002row3_col2 {\n",
              "            background-color:  #4b64d5;\n",
              "            color:  #f1f1f1;\n",
              "        }    #T_907158d4_cb91_11ea_bd93_0242ac1c0002row3_col3 {\n",
              "            background-color:  #b40426;\n",
              "            color:  #f1f1f1;\n",
              "        }    #T_907158d4_cb91_11ea_bd93_0242ac1c0002row3_col4 {\n",
              "            background-color:  #3b4cc0;\n",
              "            color:  #f1f1f1;\n",
              "        }    #T_907158d4_cb91_11ea_bd93_0242ac1c0002row3_col5 {\n",
              "            background-color:  #5470de;\n",
              "            color:  #000000;\n",
              "        }    #T_907158d4_cb91_11ea_bd93_0242ac1c0002row3_col6 {\n",
              "            background-color:  #4961d2;\n",
              "            color:  #f1f1f1;\n",
              "        }    #T_907158d4_cb91_11ea_bd93_0242ac1c0002row4_col0 {\n",
              "            background-color:  #4358cb;\n",
              "            color:  #f1f1f1;\n",
              "        }    #T_907158d4_cb91_11ea_bd93_0242ac1c0002row4_col1 {\n",
              "            background-color:  #3b4cc0;\n",
              "            color:  #f1f1f1;\n",
              "        }    #T_907158d4_cb91_11ea_bd93_0242ac1c0002row4_col2 {\n",
              "            background-color:  #86a9fc;\n",
              "            color:  #000000;\n",
              "        }    #T_907158d4_cb91_11ea_bd93_0242ac1c0002row4_col3 {\n",
              "            background-color:  #3b4cc0;\n",
              "            color:  #f1f1f1;\n",
              "        }    #T_907158d4_cb91_11ea_bd93_0242ac1c0002row4_col4 {\n",
              "            background-color:  #b40426;\n",
              "            color:  #f1f1f1;\n",
              "        }    #T_907158d4_cb91_11ea_bd93_0242ac1c0002row4_col5 {\n",
              "            background-color:  #3c4ec2;\n",
              "            color:  #f1f1f1;\n",
              "        }    #T_907158d4_cb91_11ea_bd93_0242ac1c0002row4_col6 {\n",
              "            background-color:  #3f53c6;\n",
              "            color:  #f1f1f1;\n",
              "        }    #T_907158d4_cb91_11ea_bd93_0242ac1c0002row5_col0 {\n",
              "            background-color:  #3b4cc0;\n",
              "            color:  #f1f1f1;\n",
              "        }    #T_907158d4_cb91_11ea_bd93_0242ac1c0002row5_col1 {\n",
              "            background-color:  #3f53c6;\n",
              "            color:  #f1f1f1;\n",
              "        }    #T_907158d4_cb91_11ea_bd93_0242ac1c0002row5_col2 {\n",
              "            background-color:  #3b4cc0;\n",
              "            color:  #f1f1f1;\n",
              "        }    #T_907158d4_cb91_11ea_bd93_0242ac1c0002row5_col3 {\n",
              "            background-color:  #516ddb;\n",
              "            color:  #000000;\n",
              "        }    #T_907158d4_cb91_11ea_bd93_0242ac1c0002row5_col4 {\n",
              "            background-color:  #3b4cc0;\n",
              "            color:  #f1f1f1;\n",
              "        }    #T_907158d4_cb91_11ea_bd93_0242ac1c0002row5_col5 {\n",
              "            background-color:  #b40426;\n",
              "            color:  #f1f1f1;\n",
              "        }    #T_907158d4_cb91_11ea_bd93_0242ac1c0002row5_col6 {\n",
              "            background-color:  #d8dce2;\n",
              "            color:  #000000;\n",
              "        }    #T_907158d4_cb91_11ea_bd93_0242ac1c0002row6_col0 {\n",
              "            background-color:  #4257c9;\n",
              "            color:  #f1f1f1;\n",
              "        }    #T_907158d4_cb91_11ea_bd93_0242ac1c0002row6_col1 {\n",
              "            background-color:  #4358cb;\n",
              "            color:  #f1f1f1;\n",
              "        }    #T_907158d4_cb91_11ea_bd93_0242ac1c0002row6_col2 {\n",
              "            background-color:  #455cce;\n",
              "            color:  #f1f1f1;\n",
              "        }    #T_907158d4_cb91_11ea_bd93_0242ac1c0002row6_col3 {\n",
              "            background-color:  #536edd;\n",
              "            color:  #000000;\n",
              "        }    #T_907158d4_cb91_11ea_bd93_0242ac1c0002row6_col4 {\n",
              "            background-color:  #4a63d3;\n",
              "            color:  #f1f1f1;\n",
              "        }    #T_907158d4_cb91_11ea_bd93_0242ac1c0002row6_col5 {\n",
              "            background-color:  #dddcdc;\n",
              "            color:  #000000;\n",
              "        }    #T_907158d4_cb91_11ea_bd93_0242ac1c0002row6_col6 {\n",
              "            background-color:  #b40426;\n",
              "            color:  #f1f1f1;\n",
              "        }</style><table id=\"T_907158d4_cb91_11ea_bd93_0242ac1c0002\" ><thead>    <tr>        <th class=\"blank level0\" ></th>        <th class=\"col_heading level0 col0\" >age</th>        <th class=\"col_heading level0 col1\" >balance</th>        <th class=\"col_heading level0 col2\" >day</th>        <th class=\"col_heading level0 col3\" >duration</th>        <th class=\"col_heading level0 col4\" >campaign</th>        <th class=\"col_heading level0 col5\" >pdays</th>        <th class=\"col_heading level0 col6\" >previous</th>    </tr></thead><tbody>\n",
              "                <tr>\n",
              "                        <th id=\"T_907158d4_cb91_11ea_bd93_0242ac1c0002level0_row0\" class=\"row_heading level0 row0\" >age</th>\n",
              "                        <td id=\"T_907158d4_cb91_11ea_bd93_0242ac1c0002row0_col0\" class=\"data row0 col0\" >1.00</td>\n",
              "                        <td id=\"T_907158d4_cb91_11ea_bd93_0242ac1c0002row0_col1\" class=\"data row0 col1\" >0.10</td>\n",
              "                        <td id=\"T_907158d4_cb91_11ea_bd93_0242ac1c0002row0_col2\" class=\"data row0 col2\" >-0.01</td>\n",
              "                        <td id=\"T_907158d4_cb91_11ea_bd93_0242ac1c0002row0_col3\" class=\"data row0 col3\" >-0.00</td>\n",
              "                        <td id=\"T_907158d4_cb91_11ea_bd93_0242ac1c0002row0_col4\" class=\"data row0 col4\" >0.00</td>\n",
              "                        <td id=\"T_907158d4_cb91_11ea_bd93_0242ac1c0002row0_col5\" class=\"data row0 col5\" >-0.02</td>\n",
              "                        <td id=\"T_907158d4_cb91_11ea_bd93_0242ac1c0002row0_col6\" class=\"data row0 col6\" >0.00</td>\n",
              "            </tr>\n",
              "            <tr>\n",
              "                        <th id=\"T_907158d4_cb91_11ea_bd93_0242ac1c0002level0_row1\" class=\"row_heading level0 row1\" >balance</th>\n",
              "                        <td id=\"T_907158d4_cb91_11ea_bd93_0242ac1c0002row1_col0\" class=\"data row1 col0\" >0.10</td>\n",
              "                        <td id=\"T_907158d4_cb91_11ea_bd93_0242ac1c0002row1_col1\" class=\"data row1 col1\" >1.00</td>\n",
              "                        <td id=\"T_907158d4_cb91_11ea_bd93_0242ac1c0002row1_col2\" class=\"data row1 col2\" >0.00</td>\n",
              "                        <td id=\"T_907158d4_cb91_11ea_bd93_0242ac1c0002row1_col3\" class=\"data row1 col3\" >0.02</td>\n",
              "                        <td id=\"T_907158d4_cb91_11ea_bd93_0242ac1c0002row1_col4\" class=\"data row1 col4\" >-0.01</td>\n",
              "                        <td id=\"T_907158d4_cb91_11ea_bd93_0242ac1c0002row1_col5\" class=\"data row1 col5\" >0.00</td>\n",
              "                        <td id=\"T_907158d4_cb91_11ea_bd93_0242ac1c0002row1_col6\" class=\"data row1 col6\" >0.02</td>\n",
              "            </tr>\n",
              "            <tr>\n",
              "                        <th id=\"T_907158d4_cb91_11ea_bd93_0242ac1c0002level0_row2\" class=\"row_heading level0 row2\" >day</th>\n",
              "                        <td id=\"T_907158d4_cb91_11ea_bd93_0242ac1c0002row2_col0\" class=\"data row2 col0\" >-0.01</td>\n",
              "                        <td id=\"T_907158d4_cb91_11ea_bd93_0242ac1c0002row2_col1\" class=\"data row2 col1\" >0.00</td>\n",
              "                        <td id=\"T_907158d4_cb91_11ea_bd93_0242ac1c0002row2_col2\" class=\"data row2 col2\" >1.00</td>\n",
              "                        <td id=\"T_907158d4_cb91_11ea_bd93_0242ac1c0002row2_col3\" class=\"data row2 col3\" >-0.03</td>\n",
              "                        <td id=\"T_907158d4_cb91_11ea_bd93_0242ac1c0002row2_col4\" class=\"data row2 col4\" >0.16</td>\n",
              "                        <td id=\"T_907158d4_cb91_11ea_bd93_0242ac1c0002row2_col5\" class=\"data row2 col5\" >-0.09</td>\n",
              "                        <td id=\"T_907158d4_cb91_11ea_bd93_0242ac1c0002row2_col6\" class=\"data row2 col6\" >-0.05</td>\n",
              "            </tr>\n",
              "            <tr>\n",
              "                        <th id=\"T_907158d4_cb91_11ea_bd93_0242ac1c0002level0_row3\" class=\"row_heading level0 row3\" >duration</th>\n",
              "                        <td id=\"T_907158d4_cb91_11ea_bd93_0242ac1c0002row3_col0\" class=\"data row3 col0\" >-0.00</td>\n",
              "                        <td id=\"T_907158d4_cb91_11ea_bd93_0242ac1c0002row3_col1\" class=\"data row3 col1\" >0.02</td>\n",
              "                        <td id=\"T_907158d4_cb91_11ea_bd93_0242ac1c0002row3_col2\" class=\"data row3 col2\" >-0.03</td>\n",
              "                        <td id=\"T_907158d4_cb91_11ea_bd93_0242ac1c0002row3_col3\" class=\"data row3 col3\" >1.00</td>\n",
              "                        <td id=\"T_907158d4_cb91_11ea_bd93_0242ac1c0002row3_col4\" class=\"data row3 col4\" >-0.08</td>\n",
              "                        <td id=\"T_907158d4_cb91_11ea_bd93_0242ac1c0002row3_col5\" class=\"data row3 col5\" >-0.00</td>\n",
              "                        <td id=\"T_907158d4_cb91_11ea_bd93_0242ac1c0002row3_col6\" class=\"data row3 col6\" >0.00</td>\n",
              "            </tr>\n",
              "            <tr>\n",
              "                        <th id=\"T_907158d4_cb91_11ea_bd93_0242ac1c0002level0_row4\" class=\"row_heading level0 row4\" >campaign</th>\n",
              "                        <td id=\"T_907158d4_cb91_11ea_bd93_0242ac1c0002row4_col0\" class=\"data row4 col0\" >0.00</td>\n",
              "                        <td id=\"T_907158d4_cb91_11ea_bd93_0242ac1c0002row4_col1\" class=\"data row4 col1\" >-0.01</td>\n",
              "                        <td id=\"T_907158d4_cb91_11ea_bd93_0242ac1c0002row4_col2\" class=\"data row4 col2\" >0.16</td>\n",
              "                        <td id=\"T_907158d4_cb91_11ea_bd93_0242ac1c0002row4_col3\" class=\"data row4 col3\" >-0.08</td>\n",
              "                        <td id=\"T_907158d4_cb91_11ea_bd93_0242ac1c0002row4_col4\" class=\"data row4 col4\" >1.00</td>\n",
              "                        <td id=\"T_907158d4_cb91_11ea_bd93_0242ac1c0002row4_col5\" class=\"data row4 col5\" >-0.09</td>\n",
              "                        <td id=\"T_907158d4_cb91_11ea_bd93_0242ac1c0002row4_col6\" class=\"data row4 col6\" >-0.03</td>\n",
              "            </tr>\n",
              "            <tr>\n",
              "                        <th id=\"T_907158d4_cb91_11ea_bd93_0242ac1c0002level0_row5\" class=\"row_heading level0 row5\" >pdays</th>\n",
              "                        <td id=\"T_907158d4_cb91_11ea_bd93_0242ac1c0002row5_col0\" class=\"data row5 col0\" >-0.02</td>\n",
              "                        <td id=\"T_907158d4_cb91_11ea_bd93_0242ac1c0002row5_col1\" class=\"data row5 col1\" >0.00</td>\n",
              "                        <td id=\"T_907158d4_cb91_11ea_bd93_0242ac1c0002row5_col2\" class=\"data row5 col2\" >-0.09</td>\n",
              "                        <td id=\"T_907158d4_cb91_11ea_bd93_0242ac1c0002row5_col3\" class=\"data row5 col3\" >-0.00</td>\n",
              "                        <td id=\"T_907158d4_cb91_11ea_bd93_0242ac1c0002row5_col4\" class=\"data row5 col4\" >-0.09</td>\n",
              "                        <td id=\"T_907158d4_cb91_11ea_bd93_0242ac1c0002row5_col5\" class=\"data row5 col5\" >1.00</td>\n",
              "                        <td id=\"T_907158d4_cb91_11ea_bd93_0242ac1c0002row5_col6\" class=\"data row5 col6\" >0.45</td>\n",
              "            </tr>\n",
              "            <tr>\n",
              "                        <th id=\"T_907158d4_cb91_11ea_bd93_0242ac1c0002level0_row6\" class=\"row_heading level0 row6\" >previous</th>\n",
              "                        <td id=\"T_907158d4_cb91_11ea_bd93_0242ac1c0002row6_col0\" class=\"data row6 col0\" >0.00</td>\n",
              "                        <td id=\"T_907158d4_cb91_11ea_bd93_0242ac1c0002row6_col1\" class=\"data row6 col1\" >0.02</td>\n",
              "                        <td id=\"T_907158d4_cb91_11ea_bd93_0242ac1c0002row6_col2\" class=\"data row6 col2\" >-0.05</td>\n",
              "                        <td id=\"T_907158d4_cb91_11ea_bd93_0242ac1c0002row6_col3\" class=\"data row6 col3\" >0.00</td>\n",
              "                        <td id=\"T_907158d4_cb91_11ea_bd93_0242ac1c0002row6_col4\" class=\"data row6 col4\" >-0.03</td>\n",
              "                        <td id=\"T_907158d4_cb91_11ea_bd93_0242ac1c0002row6_col5\" class=\"data row6 col5\" >0.45</td>\n",
              "                        <td id=\"T_907158d4_cb91_11ea_bd93_0242ac1c0002row6_col6\" class=\"data row6 col6\" >1.00</td>\n",
              "            </tr>\n",
              "    </tbody></table>"
            ],
            "text/plain": [
              "<pandas.io.formats.style.Styler at 0x7fd2378cdd30>"
            ]
          },
          "metadata": {
            "tags": []
          },
          "execution_count": 39
        }
      ]
    },
    {
      "cell_type": "code",
      "metadata": {
        "id": "7QUxBiPr6Nfa",
        "colab_type": "code",
        "colab": {
          "base_uri": "https://localhost:8080/",
          "height": 68
        },
        "outputId": "d07a3095-8c55-4d8b-82c2-0f13a8827eeb"
      },
      "source": [
        "### target variable y\n",
        "dataset['y'].value_counts()/dataset.shape[0]"
      ],
      "execution_count": 44,
      "outputs": [
        {
          "output_type": "execute_result",
          "data": {
            "text/plain": [
              "no     0.883015\n",
              "yes    0.116985\n",
              "Name: y, dtype: float64"
            ]
          },
          "metadata": {
            "tags": []
          },
          "execution_count": 44
        }
      ]
    },
    {
      "cell_type": "code",
      "metadata": {
        "id": "hfNoGWygFuBx",
        "colab_type": "code",
        "colab": {
          "base_uri": "https://localhost:8080/",
          "height": 34
        },
        "outputId": "a131e471-cc98-43a4-9c80-3abd5021f0e2"
      },
      "source": [
        ""
      ],
      "execution_count": 42,
      "outputs": [
        {
          "output_type": "execute_result",
          "data": {
            "text/plain": [
              "45211"
            ]
          },
          "metadata": {
            "tags": []
          },
          "execution_count": 42
        }
      ]
    },
    {
      "cell_type": "code",
      "metadata": {
        "id": "IVpJMqEaFyZi",
        "colab_type": "code",
        "colab": {}
      },
      "source": [
        ""
      ],
      "execution_count": null,
      "outputs": []
    }
  ]
}